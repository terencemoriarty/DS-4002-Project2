{
 "cells": [
  {
   "cell_type": "markdown",
   "source": [
    "Loading in Packages and data path"
   ],
   "metadata": {
    "collapsed": false
   }
  },
  {
   "cell_type": "code",
   "execution_count": 32,
   "outputs": [],
   "source": [
    "from tensorflow.python import train\n",
    "import numpy as np\n",
    "import pandas as pd\n",
    "import tensorflow as tf\n",
    "from tensorflow.keras import layers\n",
    "from tensorflow.keras.layers.experimental import preprocessing\n",
    "from tensorflow.keras.applications.vgg19 import VGG19\n",
    "from tensorflow.keras.applications.vgg19 import preprocess_input\n",
    "from tensorflow.keras.models import Model\n",
    "import os\n",
    "import matplotlib.pyplot as plt\n",
    "import PIL.Image as img\n",
    "from tensorflow.keras.preprocessing import image\n",
    "from tensorflow.keras.callbacks import EarlyStopping\n",
    "\n",
    "\n",
    "train_data = 'Covid19-dataset/train'\n",
    "test_data = 'Covid19-dataset/test'"
   ],
   "metadata": {
    "collapsed": false
   }
  },
  {
   "cell_type": "markdown",
   "source": [
    "Loading in image data"
   ],
   "metadata": {
    "collapsed": false
   }
  },
  {
   "cell_type": "code",
   "execution_count": 33,
   "outputs": [
    {
     "name": "stderr",
     "output_type": "stream",
     "text": [
      "\n",
      "KeyboardInterrupt\n",
      "\n"
     ]
    }
   ],
   "source": [
    "# Function to Extract features from the images\n",
    "from tensorflow.keras.applications.inception_v3 import InceptionV3\n",
    "from tensorflow.keras.applications.inception_v3 import preprocess_input\n",
    "from tensorflow.keras.preprocessing import image\n",
    "from tensorflow.keras.preprocessing.image import img_to_array\n",
    "from sklearn.cluster import KMeans\n",
    "import pandas as pd\n",
    "import numpy as np\n",
    "from tqdm import tqdm\n",
    "from os import listdir\n",
    "import shutil\n",
    "def image_feature(direc, type):\n",
    "    model = InceptionV3(weights='imagenet', include_top=False)\n",
    "    features = [];\n",
    "    img_name = [];\n",
    "    for i in listdir(direc):\n",
    "        fname=direc+'/'+i\n",
    "        img=image.load_img(fname,target_size=(224,224))\n",
    "        x = img_to_array(img)\n",
    "        x=np.expand_dims(x,axis=0)\n",
    "        x=preprocess_input(x)\n",
    "        feat=model.predict(x)\n",
    "        feat=feat.flatten()\n",
    "        features.append(feat)\n",
    "        img_name.append(i+type)\n",
    "    return features,img_name\n",
    "\n",
    "# append train\n",
    "t1img_features,t1img_name=image_feature('Covid19-dataset/train/Covid', \"C\")\n",
    "t2img_features,t2img_name=image_feature('Covid19-dataset/train/Normal', \"N\")\n",
    "t3img_features,t3img_name=image_feature('Covid19-dataset/train/Viral Pneumonia', \"VP\")\n",
    "#trimg_features = t1img_features + t2img_features +  t3img_features\n",
    "#trimg_name = t1img_name + t2img_name +  t3img_name\n",
    "\n",
    "#append test\n",
    "t1aimg_features,t1aimg_name=image_feature('Covid19-dataset/test/Covid', \"C\")\n",
    "t2aimg_features,t2aimg_name=image_feature('Covid19-dataset/test/Normal',\"N\")\n",
    "t3aimg_features,t3aimg_name=image_feature('Covid19-dataset/test/Viral Pneumonia',\"VP\")\n",
    "#teimg_features = t1img_features + t2img_features +  t3img_features\n",
    "#teimg_name = t1img_name + t2img_name +  t3img_name\n",
    "\n",
    "trimg_features = t1img_features + t1aimg_features + t2img_features +t2aimg_features +  t3img_features + t3aimg_features\n",
    "trimg_name = t1img_name + t1aimg_name+ t2img_name + t2aimg_name + t3img_name + t3aimg_name\n"
   ],
   "metadata": {
    "collapsed": false
   }
  },
  {
   "cell_type": "code",
   "execution_count": null,
   "outputs": [],
   "source": [],
   "metadata": {
    "collapsed": false
   }
  },
  {
   "cell_type": "code",
   "execution_count": 34,
   "outputs": [
    {
     "name": "stderr",
     "output_type": "stream",
     "text": [
      "/Users/noahmcintire/Desktop/MachineLearning/venv/lib/python3.10/site-packages/sklearn/cluster/_kmeans.py:870: FutureWarning: The default value of `n_init` will change from 10 to 'auto' in 1.4. Set the value of `n_init` explicitly to suppress the warning\n",
      "  warnings.warn(\n"
     ]
    },
    {
     "data": {
      "text/plain": "                image  clusterid\n0    COVID-00006.jpgC          0\n1    COVID-00012.jpgC          0\n2            06.jpegC          0\n3           060.jpegC          0\n4    COVID-00007.jpgC          0\n..                ...        ...\n312       0105.jpegVP          2\n313       0109.jpegVP          2\n314       0108.jpegVP          2\n315       0104.jpegVP          2\n316       0112.jpegVP          2\n\n[317 rows x 2 columns]",
      "text/html": "<div>\n<style scoped>\n    .dataframe tbody tr th:only-of-type {\n        vertical-align: middle;\n    }\n\n    .dataframe tbody tr th {\n        vertical-align: top;\n    }\n\n    .dataframe thead th {\n        text-align: right;\n    }\n</style>\n<table border=\"1\" class=\"dataframe\">\n  <thead>\n    <tr style=\"text-align: right;\">\n      <th></th>\n      <th>image</th>\n      <th>clusterid</th>\n    </tr>\n  </thead>\n  <tbody>\n    <tr>\n      <th>0</th>\n      <td>COVID-00006.jpgC</td>\n      <td>0</td>\n    </tr>\n    <tr>\n      <th>1</th>\n      <td>COVID-00012.jpgC</td>\n      <td>0</td>\n    </tr>\n    <tr>\n      <th>2</th>\n      <td>06.jpegC</td>\n      <td>0</td>\n    </tr>\n    <tr>\n      <th>3</th>\n      <td>060.jpegC</td>\n      <td>0</td>\n    </tr>\n    <tr>\n      <th>4</th>\n      <td>COVID-00007.jpgC</td>\n      <td>0</td>\n    </tr>\n    <tr>\n      <th>...</th>\n      <td>...</td>\n      <td>...</td>\n    </tr>\n    <tr>\n      <th>312</th>\n      <td>0105.jpegVP</td>\n      <td>2</td>\n    </tr>\n    <tr>\n      <th>313</th>\n      <td>0109.jpegVP</td>\n      <td>2</td>\n    </tr>\n    <tr>\n      <th>314</th>\n      <td>0108.jpegVP</td>\n      <td>2</td>\n    </tr>\n    <tr>\n      <th>315</th>\n      <td>0104.jpegVP</td>\n      <td>2</td>\n    </tr>\n    <tr>\n      <th>316</th>\n      <td>0112.jpegVP</td>\n      <td>2</td>\n    </tr>\n  </tbody>\n</table>\n<p>317 rows × 2 columns</p>\n</div>"
     },
     "execution_count": 34,
     "metadata": {},
     "output_type": "execute_result"
    }
   ],
   "source": [
    "#Creating Clusters\n",
    "k = 3 # normal, covid, and pneumonia\n",
    "clusters = KMeans(k, random_state = 40)\n",
    "clusters.fit(trimg_features)\n",
    "image_cluster = pd.DataFrame(trimg_name,columns=['image'])\n",
    "image_cluster[\"clusterid\"] = clusters.labels_\n",
    "image_cluster\n"
   ],
   "metadata": {
    "collapsed": false
   }
  },
  {
   "cell_type": "code",
   "execution_count": 44,
   "outputs": [
    {
     "name": "stdout",
     "output_type": "stream",
     "text": [
      "100\n",
      "35\n",
      "2\n"
     ]
    }
   ],
   "source": [
    "covid_cnt = 0\n",
    "covid_wr1 = 0\n",
    "covid_wr2 = 0\n",
    "for i in image_cluster[\"clusterid\"][0:137]:\n",
    "    if i == 0:\n",
    "        covid_cnt += 1\n",
    "    if i == 1:\n",
    "        covid_wr1 += 1\n",
    "    if i == 2:\n",
    "        covid_wr2 += 1\n",
    "\n",
    "print(covid_cnt)\n",
    "print(covid_wr1)\n",
    "print(covid_wr2)"
   ],
   "metadata": {
    "collapsed": false
   }
  },
  {
   "cell_type": "markdown",
   "source": [],
   "metadata": {
    "collapsed": false
   }
  },
  {
   "cell_type": "code",
   "execution_count": 47,
   "outputs": [
    {
     "name": "stdout",
     "output_type": "stream",
     "text": [
      "54\n",
      "0\n",
      "36\n"
     ]
    }
   ],
   "source": [
    "image_cluster[\"clusterid\"][137:227]\n",
    "normal_cnt = 0\n",
    "normal_wr0 = 0\n",
    "normal_wr2 = 0\n",
    "for i in image_cluster[\"clusterid\"][137:227]:\n",
    "    if i == 0:\n",
    "        normal_wr0 += 1\n",
    "    if i == 1:\n",
    "        normal_cnt += 1\n",
    "    if i == 2:\n",
    "        normal_wr2 += 1\n",
    "\n",
    "print(normal_cnt)\n",
    "print(normal_wr0)\n",
    "print(normal_wr2)"
   ],
   "metadata": {
    "collapsed": false
   }
  },
  {
   "cell_type": "code",
   "execution_count": 46,
   "outputs": [
    {
     "name": "stdout",
     "output_type": "stream",
     "text": [
      "2\n",
      "5\n",
      "83\n"
     ]
    }
   ],
   "source": [
    "image_cluster[\"clusterid\"][181:251]\n",
    "vp_wr0 = 0\n",
    "vp_wr1 = 0\n",
    "vp_cnt = 0\n",
    "for i in image_cluster[\"clusterid\"][227:318]:\n",
    "    if i == 0:\n",
    "        vp_wr0 +=1\n",
    "    if i == 1:\n",
    "        vp_wr1 += 1\n",
    "    if i == 2:\n",
    "        vp_cnt += 1\n",
    "\n",
    "print(vp_wr0)\n",
    "print(vp_wr1)\n",
    "print(vp_cnt)"
   ],
   "metadata": {
    "collapsed": false
   }
  },
  {
   "cell_type": "code",
   "execution_count": null,
   "outputs": [],
   "source": [],
   "metadata": {
    "collapsed": false
   }
  },
  {
   "cell_type": "code",
   "execution_count": null,
   "outputs": [],
   "source": [],
   "metadata": {
    "collapsed": false
   }
  }
 ],
 "metadata": {
  "kernelspec": {
   "display_name": "Python 3",
   "language": "python",
   "name": "python3"
  },
  "language_info": {
   "codemirror_mode": {
    "name": "ipython",
    "version": 2
   },
   "file_extension": ".py",
   "mimetype": "text/x-python",
   "name": "python",
   "nbconvert_exporter": "python",
   "pygments_lexer": "ipython2",
   "version": "2.7.6"
  }
 },
 "nbformat": 4,
 "nbformat_minor": 0
}
